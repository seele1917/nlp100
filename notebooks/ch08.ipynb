{
 "cells": [
  {
   "cell_type": "markdown",
   "metadata": {},
   "source": [
    "# 第8章: ニューラルネット\n",
    "https://nlp100.github.io/ja/ch08.html\n",
    "\n",
    "第6章で取り組んだニュース記事のカテゴリ分類を題材として，ニューラルネットワークでカテゴリ分類モデルを実装する．なお，この章ではPyTorch, TensorFlow, Chainerなどの機械学習プラットフォームを活用せよ．"
   ]
  },
  {
   "cell_type": "markdown",
   "metadata": {},
   "source": [
    "## 70. 単語ベクトルの和による特徴量\n",
    "問題50で構築した学習データ，検証データ，評価データを行列・ベクトルに変換したい．例えば，学習データについて，すべての事例$x_i$の特徴ベクトル$x_i$を並べた行列$X$と，正解ラベルを並べた行列（ベクトル）$Y$を作成したい．\n",
    "$$\n",
    "X = \\begin{pmatrix} \n",
    "  \\boldsymbol{x}_1 \\\\ \n",
    "  \\boldsymbol{x}_2 \\\\ \n",
    "  \\dots \\\\ \n",
    "  \\boldsymbol{x}_n \\\\ \n",
    "\\end{pmatrix} \\in \\mathbb{R}^{n \\times d},\n",
    "Y = \\begin{pmatrix} \n",
    "  y_1 \\\\ \n",
    "  y_2 \\\\ \n",
    "  \\dots \\\\ \n",
    "  y_n \\\\ \n",
    "\\end{pmatrix} \\in \\mathbb{N}^{n}\n",
    "$$\n",
    "\n",
    "ここで，$n$は学習データの事例数であり，$\\boldsymbol{x}_i \\in \\mathbb{R}^d$と$y_i \\in \\mathbb{N}$はそれぞれ，$i \\in \\{1, \\dots, n\\}$番目の事例の特徴量ベクトルと正解ラベルを表す． なお，今回は「ビジネス」「科学技術」「エンターテイメント」「健康」の4カテゴリ分類である．$\\mathbb{N}_{<4}$で4未満の自然数（0を含む）を表すことにすれば，任意の事例の正解ラベル$y_i$は$y_i \\in \\mathbb{N}_{<4}$で表現できる． 以降では，ラベルの種類数を$L$で表す（今回の分類タスクでは$L$=4である）．\n",
    "\n",
    "$i$番目の事例の特徴ベクトル$\\boldsymbol{x}_i$は，次式で求める．\n",
    "$$\n",
    "\\boldsymbol{x}_i = \\frac{1}{T_i} \\sum_{t=1}^{T_i} \\mathrm{emb}(w_{i,t})\n",
    "$$\n",
    "\n",
    "ここで，$i$番目の事例は$T_i$個の（記事見出しの）単語列$(w_{i,1}, w_{i,2}, \\dots, w_{i,T_i})$から構成され，$\\mathrm{emb}(w) \\in \\mathbb{R}^d$は単語$w$に対応する単語ベクトル（次元数は$d$）である．すなわち，$i$番目の事例の記事見出しを，その見出しに含まれる単語のベクトルの平均で表現したものが$x_i$である．今回は単語ベクトルとして，問題60でダウンロードしたものを用いればよい．300次元の単語ベクトルを用いたので，$d=300$である．\n",
    "\n",
    "$i$番目の事例のラベル$y_i$は，次のように定義する．\n",
    "\n",
    "$$\n",
    "y_i = \\begin{cases}\n",
    "0 & (記事x_iが「ビジネス」カテゴリの場合) \\\\\n",
    "1 & (記事x_iが「科学技術」カテゴリの場合) \\\\\n",
    "2 & (記事x_iが「エンターテイメント」カテゴリの場合) \\\\\n",
    "3 & (記事x_iが「健康」カテゴリの場合) \\\\\n",
    "\\end{cases}\n",
    "$$\n",
    "\n",
    "なお，カテゴリ名とラベルの番号が一対一で対応付いていれば，上式の通りの対応付けでなくてもよい．\n",
    "\n",
    "以上の仕様に基づき，以下の行列・ベクトルを作成し，ファイルに保存せよ．\n",
    "\n",
    "- 学習データの特徴量行列: $X_{\\rm train} \\in \\mathbb{R}^{N_t \\times d}$\n",
    "- 学習データのラベルベクトル: $Y_{\\rm train} \\in \\mathbb{N}^{N_t}$\n",
    "- 検証データの特徴量行列: $X_{\\rm valid} \\in \\mathbb{R}^{N_v \\times d}$\n",
    "- 検証データのラベルベクトル: $Y_{\\rm valid} \\in \\mathbb{N}^{N_v}$\n",
    "- 評価データの特徴量行列: $X_{\\rm test} \\in \\mathbb{R}^{N_e \\times d}$\n",
    "- 評価データのラベルベクトル: $Y_{\\rm test} \\in \\mathbb{N}^{N_e}$\n",
    "\n",
    "なお，$N_t, N_v, N_e$はそれぞれ，学習データの事例数，検証データの事例数，評価データの事例数である．"
   ]
  },
  {
   "cell_type": "code",
   "execution_count": 3,
   "metadata": {},
   "outputs": [
    {
     "name": "stderr",
     "output_type": "stream",
     "text": [
      "/tmp/ipykernel_17896/943271579.py:25: UserWarning: Creating a tensor from a list of numpy.ndarrays is extremely slow. Please consider converting the list to a single numpy.ndarray with numpy.array() before converting to a tensor. (Triggered internally at  /opt/conda/conda-bld/pytorch_1646755903507/work/torch/csrc/utils/tensor_new.cpp:210.)\n",
      "  return torch.tensor(df['feature']), torch.from_numpy(df['label'].values).long()\n"
     ]
    },
    {
     "data": {
      "text/plain": [
       "(None, None)"
      ]
     },
     "execution_count": 3,
     "metadata": {},
     "output_type": "execute_result"
    }
   ],
   "source": [
    "import pandas as pd\n",
    "import torch\n",
    "import texthero as hero\n",
    "from gensim.models import KeyedVectors\n",
    "\n",
    "category_dict = {\n",
    "    'b': 0,\n",
    "    't': 1,\n",
    "    'e': 2,\n",
    "    'm': 3,\n",
    "}\n",
    "\n",
    "model = KeyedVectors.load_word2vec_format('./GoogleNews-vectors-negative300.bin.gz', binary=True)\n",
    "\n",
    "def vectorize(sentense):\n",
    "    words = sentense.split()\n",
    "    vector_list = [model[word] for word in words if word in model]\n",
    "    return sum(vector_list) / len(vector_list)\n",
    "\n",
    "def get_feature_and_label(txt_path):\n",
    "    df = pd.read_table(txt_path, header=None, names=['category', 'title'])\n",
    "    df['title'] = hero.clean(df['title'])\n",
    "    df['feature'] = df['title'].map(lambda x: vectorize(x))\n",
    "    df['label'] = df['category'].map(category_dict)\n",
    "    return torch.tensor(df['feature']), torch.from_numpy(df['label'].values).long()\n",
    "\n",
    "X_train, y_train = get_feature_and_label('train.txt')\n",
    "X_valid, y_valid = get_feature_and_label('valid.txt')\n",
    "X_test, y_test = get_feature_and_label('test.txt')\n",
    "torch.save(X_train, 'train.feature.pth'), torch.save(y_train, 'train.label.pth')\n",
    "torch.save(X_valid, 'valid.feature.pth'), torch.save(y_valid, 'valid.label.pth')\n",
    "torch.save(X_test, 'test.feature.pth'), torch.save(y_test, 'test.label.pth')\n",
    "\n",
    "# X_train, y_train = torch.load('train.feature.pth'), torch.load('train.label.pth')\n",
    "# X_valid, y_valid = torch.load('valid.feature.pth'), torch.load('valid.label.pth')\n",
    "# X_test, y_test = torch.load('test.feature.pth'), torch.load('test.label.pth')"
   ]
  },
  {
   "cell_type": "markdown",
   "metadata": {},
   "source": [
    "## 71. 単層ニューラルネットワークによる予測\n",
    "問題70で保存した行列を読み込み，学習データについて以下の計算を実行せよ．\n",
    "$$\n",
    "\\hat{\\boldsymbol{y}}_1 = {\\rm softmax}(\\boldsymbol{x}_1 W), \\\\\n",
    "\\hat{Y} = {\\rm softmax}(X_{[1:4]} W)\n",
    "$$\n",
    "\n",
    "ただし，softmaxはソフトマックス関数，$X_{[1:4]} \\in \\mathbb{R}^{4 \\times d}$は特徴ベクトル$x_1,x_2,x_3,x_4$を縦に並べた行列である．\n",
    "\n",
    "$$\n",
    "X_{[1:4]} = \\begin{pmatrix} \n",
    "  \\boldsymbol{x}_1 \\\\ \n",
    "  \\boldsymbol{x}_2 \\\\ \n",
    "  \\boldsymbol{x}_3 \\\\ \n",
    "  \\boldsymbol{x}_4 \\\\ \n",
    "\\end{pmatrix}\n",
    "$$\n",
    "\n",
    "行列$W \\in \\mathbb{R}^{d \\times L}$は単層ニューラルネットワークの重み行列で，ここではランダムな値で初期化すればよい（問題73以降で学習して求める）．なお，$\\hat{\\boldsymbol{y}}_1 \\in \\mathbb{R}^L$は未学習の行列$W$で事例$x_1$を分類したときに，各カテゴリに属する確率を表すベクトルである． 同様に，$\\hat{Y} \\in \\mathbb{R}^{n \\times L}$は，学習データの事例$x_1,x_2,x_3,x_4$について，各カテゴリに属する確率を行列として表現している．\n"
   ]
  },
  {
   "cell_type": "code",
   "execution_count": 4,
   "metadata": {},
   "outputs": [
    {
     "data": {
      "text/plain": [
       "tensor([[0.2603, 0.2453, 0.2491, 0.2453],\n",
       "        [0.2543, 0.2402, 0.2653, 0.2402],\n",
       "        [0.2499, 0.2504, 0.2499, 0.2499],\n",
       "        [0.2668, 0.2444, 0.2444, 0.2444]], grad_fn=<SoftmaxBackward0>)"
      ]
     },
     "execution_count": 4,
     "metadata": {},
     "output_type": "execute_result"
    }
   ],
   "source": [
    "import torch\n",
    "import torch.nn as nn\n",
    "\n",
    "class Linear(nn.Module):\n",
    "    def __init__(self, in_dim, out_dim):\n",
    "        super().__init__()\n",
    "        self.W = nn.Parameter(\n",
    "            torch.zeros((in_dim, out_dim)).float()\n",
    "        )\n",
    "        nn.init.xavier_normal_(self.W)\n",
    "        # self.b = nn.Parameter(\n",
    "        #     torch.zeros(out_dim).float()\n",
    "        # )\n",
    "        # nn.init.xavier_normal_(self.b)\n",
    "    \n",
    "    def forward(self, x):\n",
    "        return x@self.W # + self.b\n",
    "\n",
    "class Model(nn.Module):\n",
    "    def __init__(self, in_dim=300, out_dim=4):\n",
    "        super().__init__()\n",
    "        self.model = nn.Sequential(\n",
    "            Linear(in_dim=in_dim, out_dim=out_dim),\n",
    "            nn.ReLU(),\n",
    "            nn.Softmax(dim=1)\n",
    "        )\n",
    "    \n",
    "    def forward(self, x):\n",
    "        return self.model(x)\n",
    "\n",
    "model = Model()\n",
    "\n",
    "X = X_train[:4]\n",
    "Y = model(X)\n",
    "Y"
   ]
  },
  {
   "cell_type": "markdown",
   "metadata": {},
   "source": [
    "## 72. 損失と勾配の計算\n",
    "学習データの事例$x_1$と事例集合$x_1, x_2, x_3, x_4$に対して，クロスエントロピー損失と，行列$W$に対する勾配を計算せよ．なお，ある事例$x_i$に対して損失は次式で計算される．\n",
    "$$l_i = - \\log [事例x_iがy_iに分類される確率]$$\n",
    "ただし，事例集合に対するクロスエントロピー損失は，その集合に含まれる各事例の損失の平均とする．\n"
   ]
  },
  {
   "cell_type": "code",
   "execution_count": 5,
   "metadata": {},
   "outputs": [
    {
     "data": {
      "text/plain": [
       "tensor(1.3777, grad_fn=<MeanBackward0>)"
      ]
     },
     "execution_count": 5,
     "metadata": {},
     "output_type": "execute_result"
    }
   ],
   "source": [
    "def cross_entropy(y, t, num_classes=4):\n",
    "    t_one_hot = torch.eye(num_classes)[t]\n",
    "    loss = (-t_one_hot*torch.log(y)).sum(axis=1)\n",
    "    return loss.mean()\n",
    "\n",
    "T = y_train[:4]\n",
    "cross_entropy(Y, T)"
   ]
  },
  {
   "cell_type": "markdown",
   "metadata": {},
   "source": [
    "## 73. 確率的勾配降下法による学習\n",
    "確率的勾配降下法（SGD: Stochastic Gradient Descent）を用いて，行列$W$を学習せよ．なお，学習は適当な基準で終了させればよい（例えば「100エポックで終了」など）．\n"
   ]
  },
  {
   "cell_type": "code",
   "execution_count": 6,
   "metadata": {},
   "outputs": [],
   "source": [
    "import torch.optim as optim\n",
    "from torch.utils.data import Dataset, DataLoader\n",
    "\n",
    "class Dataset(torch.utils.data.Dataset):\n",
    "    def __init__(self, X, y=None):\n",
    "        self.X = X\n",
    "        self.y = y\n",
    "\n",
    "    def __len__(self):\n",
    "        return len(self.X)\n",
    "\n",
    "    def __getitem__(self, index):\n",
    "        return self.X[index], self.y[index]\n",
    "\n",
    "def train_epoch(model, train_dataloader, optimizer, device):\n",
    "    model.to(device)\n",
    "    model.train()\n",
    "    train_loss = 0\n",
    "    train_accuracy = 0\n",
    "    for X, T in train_dataloader:\n",
    "        X, T = X.to(device), T.to(device)\n",
    "        Y = model(X)\n",
    "        loss = cross_entropy(Y, T)\n",
    "        optimizer.zero_grad()\n",
    "        loss.backward()\n",
    "        optimizer.step()\n",
    "\n",
    "        pred = Y.argmax(1)\n",
    "        train_loss += loss.item()*len(X)/len(train_dataloader.dataset)\n",
    "        train_accuracy += torch.sum(pred == T)/len(train_dataloader.dataset)\n",
    "    return train_loss, train_accuracy\n",
    "\n",
    "def valid_epoch(model, valid_dataloader, device):\n",
    "    model.to(device)\n",
    "    model.eval()\n",
    "    valid_loss = 0\n",
    "    valid_accuracy = 0\n",
    "    for X, T in valid_dataloader:\n",
    "        X, T = X.to(device), T.to(device)\n",
    "        with torch.no_grad():\n",
    "            Y = model(X)\n",
    "            loss = cross_entropy(Y, T)\n",
    "        \n",
    "        pred = Y.argmax(1)\n",
    "        valid_loss += loss.item()*len(X)/len(valid_dataloader.dataset)\n",
    "        valid_accuracy += torch.sum(pred == T)/len(valid_dataloader.dataset)\n",
    "    return valid_loss, valid_accuracy"
   ]
  },
  {
   "cell_type": "code",
   "execution_count": 7,
   "metadata": {},
   "outputs": [
    {
     "name": "stdout",
     "output_type": "stream",
     "text": [
      "epoch: 1, train_loss: 1.074, train_accuracy:  0.698. valid_loss:  0.871, valid_accuracy:  0.762\n",
      "epoch: 2, train_loss: 0.788, train_accuracy:  0.769. valid_loss:  0.735, valid_accuracy:  0.768\n",
      "epoch: 3, train_loss: 0.692, train_accuracy:  0.773. valid_loss:  0.664, valid_accuracy:  0.775\n",
      "epoch: 4, train_loss: 0.635, train_accuracy:  0.782. valid_loss:  0.616, valid_accuracy:  0.782\n",
      "epoch: 5, train_loss: 0.594, train_accuracy:  0.791. valid_loss:  0.580, valid_accuracy:  0.797\n",
      "epoch: 6, train_loss: 0.563, train_accuracy:  0.805. valid_loss:  0.551, valid_accuracy:  0.814\n",
      "epoch: 7, train_loss: 0.539, train_accuracy:  0.819. valid_loss:  0.528, valid_accuracy:  0.826\n",
      "epoch: 8, train_loss: 0.518, train_accuracy:  0.829. valid_loss:  0.510, valid_accuracy:  0.834\n",
      "epoch: 9, train_loss: 0.502, train_accuracy:  0.835. valid_loss:  0.494, valid_accuracy:  0.847\n",
      "epoch: 10, train_loss: 0.487, train_accuracy:  0.841. valid_loss:  0.480, valid_accuracy:  0.850\n"
     ]
    }
   ],
   "source": [
    "device = torch.device('cpu')\n",
    "model = Model()\n",
    "num_epochs = 10\n",
    "batch_size = 64\n",
    "lr = 1e-1\n",
    "optimizer = optim.SGD(model.parameters(), lr=lr)\n",
    "\n",
    "train_dataloader = DataLoader(Dataset(X_train, y_train), batch_size=batch_size, shuffle=True)\n",
    "valid_dataloader = DataLoader(Dataset(X_valid, y_valid), batch_size=batch_size, shuffle=False)\n",
    "test_dataloader = DataLoader(Dataset(X_test, y_test), batch_size=batch_size, shuffle=False)\n",
    "\n",
    "for epoch in range(num_epochs):\n",
    "    train_loss, train_accuracy = train_epoch(model, train_dataloader, optimizer, device)\n",
    "    valid_loss, valid_accuracy = valid_epoch(model, valid_dataloader, device)\n",
    "    print(f'epoch: {epoch+1}, train_loss: {train_loss:.3f}, train_accuracy: {train_accuracy: .3f}. valid_loss: {valid_loss: .3f}, valid_accuracy: {valid_accuracy: .3f}')"
   ]
  },
  {
   "cell_type": "markdown",
   "metadata": {},
   "source": [
    "## 74. 正解率の計測\n",
    "問題73で求めた行列を用いて学習データおよび評価データの事例を分類したとき，その正解率をそれぞれ求めよ．\n"
   ]
  },
  {
   "cell_type": "code",
   "execution_count": 8,
   "metadata": {},
   "outputs": [
    {
     "name": "stdout",
     "output_type": "stream",
     "text": [
      "train: 0.8434216380119324, test: 0.8515742421150208\n"
     ]
    }
   ],
   "source": [
    "_, train_accuracy = valid_epoch(model, train_dataloader, device)\n",
    "_, test_accuracy = valid_epoch(model, test_dataloader, device)\n",
    "print(f'train: {train_accuracy}, test: {test_accuracy}')"
   ]
  },
  {
   "cell_type": "markdown",
   "metadata": {},
   "source": [
    "## 75. 損失と正解率のプロット\n",
    "問題73のコードを改変し，各エポックのパラメータ更新が完了するたびに，訓練データでの損失，正解率，検証データでの損失，正解率をグラフにプロットし，学習の進捗状況を確認できるようにせよ．\n"
   ]
  },
  {
   "cell_type": "code",
   "execution_count": 9,
   "metadata": {},
   "outputs": [
    {
     "data": {
      "image/png": "[encoded data removed]",
      "text/plain": [
       "<Figure size 432x288 with 1 Axes>"
      ]
     },
     "metadata": {
      "needs_background": "light"
     },
     "output_type": "display_data"
    },
    {
     "data": {
      "image/png": "[encoded data removed]",
      "text/plain": [
       "<Figure size 432x288 with 1 Axes>"
      ]
     },
     "metadata": {
      "needs_background": "light"
     },
     "output_type": "display_data"
    }
   ],
   "source": [
    "import matplotlib.pyplot as plt\n",
    "from IPython.display import clear_output\n",
    "\n",
    "model = Model()\n",
    "optimizer = optim.SGD(model.parameters(), lr=lr)\n",
    "\n",
    "losses = []\n",
    "accuracies = []\n",
    "for epoch in range(num_epochs):\n",
    "    train_loss, train_accuracy = train_epoch(model, train_dataloader, optimizer, device)\n",
    "    valid_loss, valid_accuracy = valid_epoch(model, valid_dataloader, device)\n",
    "    losses += [[train_loss, valid_loss]]\n",
    "    accuracies += [[train_accuracy, valid_accuracy]]\n",
    "\n",
    "    plt.plot(losses), plt.show()\n",
    "    plt.plot(accuracies), plt.show()\n",
    "    clear_output(wait = True)"
   ]
  },
  {
   "cell_type": "markdown",
   "metadata": {},
   "source": [
    "## 76. チェックポイント\n",
    "問題75のコードを改変し，各エポックのパラメータ更新が完了するたびに，チェックポイント（学習途中のパラメータ（重み行列など）の値や最適化アルゴリズムの内部状態）をファイルに書き出せ．\n"
   ]
  },
  {
   "cell_type": "code",
   "execution_count": 10,
   "metadata": {},
   "outputs": [],
   "source": [
    "def save_model(model, optimizer, save_path):\n",
    "    state = {\n",
    "        'model': model.state_dict(),\n",
    "        'optimizer': optimizer.state_dict(),\n",
    "    }\n",
    "    torch.save(state, save_path)\n",
    "\n",
    "def load_model(model, optimizer, load_path):\n",
    "    state = torch.load(load_path)\n",
    "    model.load_state_dict(state['model'])\n",
    "    optimizer.load_state_dict(state['optimizer'])\n",
    "\n",
    "model = Model()\n",
    "optimizer = optim.SGD(model.parameters(), lr=lr)\n",
    "\n",
    "losses = []\n",
    "accuracies = []\n",
    "for epoch in range(num_epochs):\n",
    "    train_loss, train_accuracy = train_epoch(model, train_dataloader, optimizer, device)\n",
    "    valid_loss, valid_accuracy = valid_epoch(model, valid_dataloader, device)\n",
    "    losses += [[train_loss, valid_loss]]\n",
    "    accuracies += [[train_accuracy, valid_accuracy]]\n",
    "    \n",
    "    save_model(model, optimizer, 'last_model.pth')\n",
    "    break\n",
    "\n",
    "load_model(model, optimizer, 'last_model.pth')"
   ]
  },
  {
   "cell_type": "markdown",
   "metadata": {},
   "source": [
    "## 77. ミニバッチ化\n",
    "問題76のコードを改変し，$B$事例ごとに損失・勾配を計算し，行列$W$の値を更新せよ（ミニバッチ化）．$B$の値を$1, 2, 4, 8, \\dots$と変化させながら，1エポックの学習に要する時間を比較せよ．\n"
   ]
  },
  {
   "cell_type": "code",
   "execution_count": 11,
   "metadata": {},
   "outputs": [],
   "source": [
    "from time import time\n",
    "from contextlib import contextmanager\n",
    "\n",
    "@contextmanager\n",
    "def timer(description):\n",
    "    start = time()\n",
    "    yield\n",
    "    print(description, ': {:.3f} 秒'.format(time()-start))"
   ]
  },
  {
   "cell_type": "code",
   "execution_count": 12,
   "metadata": {},
   "outputs": [
    {
     "name": "stdout",
     "output_type": "stream",
     "text": [
      "batch_size: 1 : 8.341 秒\n",
      "batch_size: 2 : 3.796 秒\n",
      "batch_size: 4 : 1.888 秒\n",
      "batch_size: 8 : 1.050 秒\n",
      "batch_size: 16 : 0.653 秒\n",
      "batch_size: 32 : 0.343 秒\n",
      "batch_size: 64 : 0.301 秒\n"
     ]
    }
   ],
   "source": [
    "batch_size_list = [1, 2, 4, 8, 16, 32, 64]\n",
    "\n",
    "for batch_size in batch_size_list:\n",
    "    model = Model()\n",
    "    optimizer = optim.SGD(model.parameters(), lr=lr)\n",
    "    train_dataloader = DataLoader(Dataset(X_train, y_train), batch_size=batch_size, shuffle=True)\n",
    "    with timer(f'batch_size: {batch_size}'):\n",
    "        train_epoch(model, train_dataloader, optimizer, device)"
   ]
  },
  {
   "cell_type": "markdown",
   "metadata": {},
   "source": [
    "## 78. GPU上での学習\n",
    "問題77のコードを改変し，GPU上で学習を実行せよ．\n"
   ]
  },
  {
   "cell_type": "code",
   "execution_count": 13,
   "metadata": {},
   "outputs": [
    {
     "name": "stdout",
     "output_type": "stream",
     "text": [
      "batch_size: 1 : 7.663 秒\n",
      "batch_size: 2 : 3.581 秒\n",
      "batch_size: 4 : 1.852 秒\n",
      "batch_size: 8 : 1.012 秒\n",
      "batch_size: 16 : 0.572 秒\n",
      "batch_size: 32 : 0.324 秒\n",
      "batch_size: 64 : 0.203 秒\n"
     ]
    }
   ],
   "source": [
    "batch_size_list = [1, 2, 4, 8, 16, 32, 64]\n",
    "device = torch.device('cuda' if torch.cuda.is_available() else 'cpu')\n",
    "\n",
    "for batch_size in batch_size_list:\n",
    "    model = Model().to(device)\n",
    "    optimizer = optim.SGD(model.parameters(), lr=lr)\n",
    "    train_dataloader = DataLoader(Dataset(X_train, y_train), batch_size=batch_size, shuffle=True)\n",
    "    with timer(f'batch_size: {batch_size}'):\n",
    "        train_epoch(model, train_dataloader, optimizer, device)"
   ]
  },
  {
   "cell_type": "markdown",
   "metadata": {},
   "source": [
    "## 79. 多層ニューラルネットワーク\n",
    "問題78のコードを改変し，バイアス項の導入や多層化など，ニューラルネットワークの形状を変更しながら，高性能なカテゴリ分類器を構築せよ．"
   ]
  },
  {
   "cell_type": "code",
   "execution_count": 14,
   "metadata": {},
   "outputs": [],
   "source": [
    "class Linear(nn.Module):\n",
    "    def __init__(self, in_dim, out_dim):\n",
    "        super().__init__()\n",
    "        self.W = nn.Parameter(\n",
    "            torch.zeros((in_dim, out_dim)).float()\n",
    "        )\n",
    "        nn.init.xavier_normal_(self.W)\n",
    "        self.b = nn.Parameter(\n",
    "            torch.zeros(out_dim).float()\n",
    "        )\n",
    "    \n",
    "    def forward(self, x):\n",
    "        return x@self.W + self.b\n",
    "\n",
    "class Model(nn.Module):\n",
    "    def __init__(self, in_dim=300, hidden_dim=256, out_dim=4):\n",
    "        super().__init__()\n",
    "        self.model = nn.Sequential(\n",
    "            Linear(in_dim=in_dim, out_dim=hidden_dim),\n",
    "            nn.BatchNorm1d(hidden_dim),\n",
    "            nn.ReLU(),\n",
    "            Linear(in_dim=hidden_dim, out_dim=hidden_dim),\n",
    "            nn.BatchNorm1d(hidden_dim),\n",
    "            nn.ReLU(),\n",
    "            Linear(in_dim=hidden_dim, out_dim=out_dim),\n",
    "            nn.Softmax(dim=1)\n",
    "        )\n",
    "    \n",
    "    def forward(self, x):\n",
    "        return self.model(x)"
   ]
  },
  {
   "cell_type": "code",
   "execution_count": 15,
   "metadata": {},
   "outputs": [
    {
     "name": "stdout",
     "output_type": "stream",
     "text": [
      "epoch: 1, train_loss: 0.417, train_accuracy:  0.851. valid_loss:  0.334, valid_accuracy:  0.879\n",
      "epoch: 2, train_loss: 0.241, train_accuracy:  0.919. valid_loss:  0.302, valid_accuracy:  0.889\n",
      "epoch: 3, train_loss: 0.167, train_accuracy:  0.946. valid_loss:  0.311, valid_accuracy:  0.898\n",
      "epoch: 4, train_loss: 0.113, train_accuracy:  0.965. valid_loss:  0.312, valid_accuracy:  0.896\n",
      "epoch: 5, train_loss: 0.078, train_accuracy:  0.979. valid_loss:  0.325, valid_accuracy:  0.897\n",
      "epoch: 6, train_loss: 0.053, train_accuracy:  0.988. valid_loss:  0.334, valid_accuracy:  0.909\n",
      "epoch: 7, train_loss: 0.033, train_accuracy:  0.993. valid_loss:  0.341, valid_accuracy:  0.906\n",
      "epoch: 8, train_loss: 0.026, train_accuracy:  0.996. valid_loss:  0.352, valid_accuracy:  0.901\n",
      "epoch: 9, train_loss: 0.022, train_accuracy:  0.998. valid_loss:  0.358, valid_accuracy:  0.903\n",
      "epoch: 10, train_loss: 0.018, train_accuracy:  0.998. valid_loss:  0.355, valid_accuracy:  0.909\n"
     ]
    }
   ],
   "source": [
    "num_epochs = 10\n",
    "model = Model()\n",
    "optimizer = optim.SGD(model.parameters(), lr=lr)\n",
    "\n",
    "for epoch in range(num_epochs):\n",
    "    train_loss, train_accuracy = train_epoch(model, train_dataloader, optimizer, device)\n",
    "    valid_loss, valid_accuracy = valid_epoch(model, valid_dataloader, device)\n",
    "    print(f'epoch: {epoch+1}, train_loss: {train_loss:.3f}, train_accuracy: {train_accuracy: .3f}. valid_loss: {valid_loss: .3f}, valid_accuracy: {valid_accuracy: .3f}')\n"
   ]
  },
  {
   "cell_type": "code",
   "execution_count": null,
   "metadata": {},
   "outputs": [],
   "source": []
  }
 ],
 "metadata": {
  "interpreter": {
   "hash": "d4d1e4263499bec80672ea0156c357c1ee493ec2b1c70f0acce89fc37c4a6abe"
  },
  "kernelspec": {
   "display_name": "Python 3.9.10 ('base')",
   "language": "python",
   "name": "python3"
  },
  "language_info": {
   "codemirror_mode": {
    "name": "ipython",
    "version": 3
   },
   "file_extension": ".py",
   "mimetype": "text/x-python",
   "name": "python",
   "nbconvert_exporter": "python",
   "pygments_lexer": "ipython3",
   "version": "3.8.12"
  },
  "orig_nbformat": 4
 },
 "nbformat": 4,
 "nbformat_minor": 2
}
