{
 "cells": [
  {
   "cell_type": "markdown",
   "metadata": {},
   "source": [
    "# 第6章: 機械学習\n",
    "https://nlp100.github.io/ja/ch06.html\n",
    "\n",
    "本章では，Fabio Gasparetti氏が公開している[News Aggregator Data Set](https://archive.ics.uci.edu/ml/datasets/News+Aggregator)を用い，ニュース記事の見出しを「ビジネス」「科学技術」「エンターテイメント」「健康」のカテゴリに分類するタスク（カテゴリ分類）に取り組む"
   ]
  },
  {
   "cell_type": "markdown",
   "metadata": {},
   "source": [
    "## 50. データの入手・整形\n",
    "[News Aggregator Data Set](https://archive.ics.uci.edu/ml/datasets/News+Aggregator)をダウンロードし、以下の要領で学習データ（`train.txt`），検証データ（`valid.txt`），評価データ（`test.txt`）を作成せよ．\n",
    "\n",
    "1. ダウンロードしたzipファイルを解凍し，readme.txtの説明を読む．\n",
    "2. 情報源（publisher）が”Reuters”, “Huffington Post”, “Businessweek”, “Contactmusic.com”, “Daily Mail”の事例（記事）のみを抽出する．\n",
    "3. 抽出された事例をランダムに並び替える．\n",
    "4. 抽出された事例の80%を学習データ，残りの10%ずつを検証データと評価データに分割し，それぞれtrain.txt，valid.txt，test.txtというファイル名で保存する．ファイルには，１行に１事例を書き出すこととし，カテゴリ名と記事見出しのタブ区切り形式とせよ（このファイルは後に問題70で再利用する）．\n",
    "\n",
    "学習データと評価データを作成したら，各カテゴリの事例数を確認せよ．\n"
   ]
  },
  {
   "cell_type": "code",
   "execution_count": 3,
   "metadata": {},
   "outputs": [],
   "source": [
    "# !wget https://archive.ics.uci.edu/ml/machine-learning-databases/00359/NewsAggregatorDataset.zip && unzip NewsAggregatorDataset.zip -d NewsAggregatorDataset && rm NewsAggregatorDataset.zip\n",
    "# !mv NewsAggregatorDataset ../dataset\n",
    "\n",
    "data_dir = '../dataset/NewsAggregatorDataset'\n",
    "# !cat {data_dir}/readme.txt\n"
   ]
  },
  {
   "cell_type": "code",
   "execution_count": 4,
   "metadata": {},
   "outputs": [
    {
     "name": "stdout",
     "output_type": "stream",
     "text": [
      "train:\n",
      "b    4502\n",
      "e    4223\n",
      "t    1219\n",
      "m     728\n",
      "Name: category, dtype: int64\n",
      "valid:\n",
      "b    563\n",
      "e    528\n",
      "t    152\n",
      "m     91\n",
      "Name: category, dtype: int64\n",
      "test:\n",
      "b    562\n",
      "e    528\n",
      "t    153\n",
      "m     91\n",
      "Name: category, dtype: int64\n"
     ]
    }
   ],
   "source": [
    "import os.path as osp\n",
    "import pandas as pd\n",
    "from sklearn.model_selection import train_test_split\n",
    "\n",
    "df = pd.read_table(osp.join(data_dir, 'newsCorpora.csv'), header=None, index_col=0, names=['id', 'title', 'url', 'publisher', 'category', 'story', 'hostname', 'timestamp'])\n",
    "df_extracted = df[df['publisher'].isin(['Reuters', 'Huffington Post', 'Businessweek', 'Contactmusic.com', 'Daily Mail'])]\n",
    "df_extracted = df_extracted.sample(frac=1)[['category', 'title']] # シャッフル & カテゴリと見出しの抽出\n",
    "\n",
    "train, test = train_test_split(df_extracted, test_size=0.2, stratify=df_extracted['category'])\n",
    "valid, test = train_test_split(test, test_size=0.5, stratify=test['category'])\n",
    "\n",
    "# 保存\n",
    "train.to_csv('train.txt', sep='\\t', header=None, index=None)\n",
    "valid.to_csv('valid.txt', sep='\\t', header=None, index=None)\n",
    "test.to_csv('test.txt', sep='\\t', header=None, index=None)\n",
    "\n",
    "# カテゴリの事例数\n",
    "print(f\"train:\\n{train['category'].value_counts()}\")\n",
    "print(f\"valid:\\n{valid['category'].value_counts()}\")\n",
    "print(f\"test:\\n{test['category'].value_counts()}\")\n"
   ]
  },
  {
   "cell_type": "markdown",
   "metadata": {},
   "source": [
    "## 51. 特徴量抽出\n",
    "学習データ，検証データ，評価データから特徴量を抽出し，それぞれtrain.feature.txt，valid.feature.txt，test.feature.txtというファイル名で保存せよ．\n",
    "なお，カテゴリ分類に有用そうな特徴量は各自で自由に設計せよ．記事の見出しを単語列に変換したものが最低限のベースラインとなるであろう．\n"
   ]
  },
  {
   "cell_type": "code",
   "execution_count": 5,
   "metadata": {},
   "outputs": [],
   "source": [
    "import numpy as np\n",
    "import texthero as hero\n",
    "from sklearn.feature_extraction.text import TfidfVectorizer\n",
    "\n",
    "# tfidfで特徴量を抽出\n",
    "tfidf = TfidfVectorizer(max_features=2000)\n",
    "tfidf.fit(hero.clean(train['title']))\n",
    "\n",
    "# tfidf特徴に変換\n",
    "train_feature = tfidf.transform(hero.clean(train['title']))\n",
    "valid_feature = tfidf.transform(hero.clean(valid['title']))\n",
    "test_feature = tfidf.transform(hero.clean(test['title']))\n",
    "\n",
    "# 保存\n",
    "np.savetxt('train.feature.txt', train_feature.toarray())\n",
    "np.savetxt('valid.feature.txt', valid_feature.toarray())\n",
    "np.savetxt('test.feature.txt', test_feature.toarray())"
   ]
  },
  {
   "cell_type": "markdown",
   "metadata": {},
   "source": [
    "## 52. 学習\n",
    "51で構築した学習データを用いて，ロジスティック回帰モデルを学習せよ．\n"
   ]
  },
  {
   "cell_type": "code",
   "execution_count": 6,
   "metadata": {},
   "outputs": [
    {
     "data": {
      "text/plain": [
       "LogisticRegression(max_iter=10000)"
      ]
     },
     "execution_count": 6,
     "metadata": {},
     "output_type": "execute_result"
    }
   ],
   "source": [
    "from sklearn.linear_model import LogisticRegression\n",
    "lr = LogisticRegression(max_iter=10000)\n",
    "\n",
    "X_train, y_train = train_feature, train['category'].values\n",
    "X_valid, y_valid = valid_feature, valid['category'].values\n",
    "X_test, y_test = test_feature, test['category'].values\n",
    "lr.fit(X_train, y_train)"
   ]
  },
  {
   "cell_type": "markdown",
   "metadata": {},
   "source": [
    "## 53. 予測\n",
    "52で学習したロジスティック回帰モデルを用い，与えられた記事見出しからカテゴリとその予測確率を計算するプログラムを実装せよ．\n"
   ]
  },
  {
   "cell_type": "code",
   "execution_count": 7,
   "metadata": {},
   "outputs": [
    {
     "data": {
      "text/html": [
       "<div>\n",
       "<style scoped>\n",
       "    .dataframe tbody tr th:only-of-type {\n",
       "        vertical-align: middle;\n",
       "    }\n",
       "\n",
       "    .dataframe tbody tr th {\n",
       "        vertical-align: top;\n",
       "    }\n",
       "\n",
       "    .dataframe thead th {\n",
       "        text-align: right;\n",
       "    }\n",
       "</style>\n",
       "<table border=\"1\" class=\"dataframe\">\n",
       "  <thead>\n",
       "    <tr style=\"text-align: right;\">\n",
       "      <th></th>\n",
       "      <th>category</th>\n",
       "      <th>title</th>\n",
       "      <th>predict</th>\n",
       "      <th>probability</th>\n",
       "    </tr>\n",
       "    <tr>\n",
       "      <th>id</th>\n",
       "      <th></th>\n",
       "      <th></th>\n",
       "      <th></th>\n",
       "      <th></th>\n",
       "    </tr>\n",
       "  </thead>\n",
       "  <tbody>\n",
       "    <tr>\n",
       "      <th>59954</th>\n",
       "      <td>b</td>\n",
       "      <td>Australia: Missing Malaysia Plane Search Area ...</td>\n",
       "      <td>b</td>\n",
       "      <td>0.759993</td>\n",
       "    </tr>\n",
       "    <tr>\n",
       "      <th>207883</th>\n",
       "      <td>b</td>\n",
       "      <td>UPDATE 1-Nowotny says would prefer \"package\" o...</td>\n",
       "      <td>b</td>\n",
       "      <td>0.979861</td>\n",
       "    </tr>\n",
       "    <tr>\n",
       "      <th>124262</th>\n",
       "      <td>e</td>\n",
       "      <td>Ice Cube Jokes That Paul Walker 'Robbed' Him O...</td>\n",
       "      <td>e</td>\n",
       "      <td>0.984214</td>\n",
       "    </tr>\n",
       "    <tr>\n",
       "      <th>224928</th>\n",
       "      <td>t</td>\n",
       "      <td>Sprint to pay $7.5 mln in record US settlement...</td>\n",
       "      <td>b</td>\n",
       "      <td>0.673844</td>\n",
       "    </tr>\n",
       "    <tr>\n",
       "      <th>203269</th>\n",
       "      <td>m</td>\n",
       "      <td>Omsignal smart shirt that can monitor your wor...</td>\n",
       "      <td>t</td>\n",
       "      <td>0.350268</td>\n",
       "    </tr>\n",
       "    <tr>\n",
       "      <th>...</th>\n",
       "      <td>...</td>\n",
       "      <td>...</td>\n",
       "      <td>...</td>\n",
       "      <td>...</td>\n",
       "    </tr>\n",
       "    <tr>\n",
       "      <th>308671</th>\n",
       "      <td>b</td>\n",
       "      <td>MARKET EYE-Indian bond yields hit 1-month high...</td>\n",
       "      <td>b</td>\n",
       "      <td>0.982162</td>\n",
       "    </tr>\n",
       "    <tr>\n",
       "      <th>35466</th>\n",
       "      <td>b</td>\n",
       "      <td>Tiffany Profit Forecast Trails Estimates as Sp...</td>\n",
       "      <td>b</td>\n",
       "      <td>0.961913</td>\n",
       "    </tr>\n",
       "    <tr>\n",
       "      <th>80958</th>\n",
       "      <td>b</td>\n",
       "      <td>UK Manufacturing Growth Cools as Export Demand...</td>\n",
       "      <td>b</td>\n",
       "      <td>0.924518</td>\n",
       "    </tr>\n",
       "    <tr>\n",
       "      <th>195337</th>\n",
       "      <td>e</td>\n",
       "      <td>Jennifer Lawrence Fears Overexposure As 'Mocki...</td>\n",
       "      <td>e</td>\n",
       "      <td>0.914671</td>\n",
       "    </tr>\n",
       "    <tr>\n",
       "      <th>217225</th>\n",
       "      <td>b</td>\n",
       "      <td>Pinterest Valued at $5 Billion in $200 Million...</td>\n",
       "      <td>b</td>\n",
       "      <td>0.871477</td>\n",
       "    </tr>\n",
       "  </tbody>\n",
       "</table>\n",
       "<p>10672 rows × 4 columns</p>\n",
       "</div>"
      ],
      "text/plain": [
       "       category                                              title predict  \\\n",
       "id                                                                           \n",
       "59954         b  Australia: Missing Malaysia Plane Search Area ...       b   \n",
       "207883        b  UPDATE 1-Nowotny says would prefer \"package\" o...       b   \n",
       "124262        e  Ice Cube Jokes That Paul Walker 'Robbed' Him O...       e   \n",
       "224928        t  Sprint to pay $7.5 mln in record US settlement...       b   \n",
       "203269        m  Omsignal smart shirt that can monitor your wor...       t   \n",
       "...         ...                                                ...     ...   \n",
       "308671        b  MARKET EYE-Indian bond yields hit 1-month high...       b   \n",
       "35466         b  Tiffany Profit Forecast Trails Estimates as Sp...       b   \n",
       "80958         b  UK Manufacturing Growth Cools as Export Demand...       b   \n",
       "195337        e  Jennifer Lawrence Fears Overexposure As 'Mocki...       e   \n",
       "217225        b  Pinterest Valued at $5 Billion in $200 Million...       b   \n",
       "\n",
       "        probability  \n",
       "id                   \n",
       "59954      0.759993  \n",
       "207883     0.979861  \n",
       "124262     0.984214  \n",
       "224928     0.673844  \n",
       "203269     0.350268  \n",
       "...             ...  \n",
       "308671     0.982162  \n",
       "35466      0.961913  \n",
       "80958      0.924518  \n",
       "195337     0.914671  \n",
       "217225     0.871477  \n",
       "\n",
       "[10672 rows x 4 columns]"
      ]
     },
     "execution_count": 7,
     "metadata": {},
     "output_type": "execute_result"
    }
   ],
   "source": [
    "def predict(X, lr):\n",
    "    pred = lr.predict(X)\n",
    "    prob = np.max(lr.predict_proba(X), axis=1)\n",
    "    return pred, prob\n",
    "\n",
    "train['predict'], train['probability'] = predict(X_train, lr)\n",
    "valid['predict'], valid['probability'] = predict(X_valid, lr)\n",
    "test['predict'], test['probability'] = predict(X_test, lr)\n",
    "train"
   ]
  },
  {
   "cell_type": "markdown",
   "metadata": {},
   "source": [
    "## 54. 正解率の計測\n",
    "52で学習したロジスティック回帰モデルの正解率を，学習データおよび評価データ上で計測せよ．\n"
   ]
  },
  {
   "cell_type": "code",
   "execution_count": 8,
   "metadata": {},
   "outputs": [
    {
     "name": "stdout",
     "output_type": "stream",
     "text": [
      "train: 0.924756371814093, test: 0.8770614692653673\n"
     ]
    }
   ],
   "source": [
    "train_score = lr.score(X_train, y_train)\n",
    "test_score = lr.score(X_test, y_test)\n",
    "print(f'train: {train_score}, test: {test_score}')"
   ]
  },
  {
   "cell_type": "markdown",
   "metadata": {},
   "source": [
    "## 55. 混同行列の作成\n",
    "52で学習したロジスティック回帰モデルの混同行列（confusion matrix）を，学習データおよび評価データ上で作成せよ．\n"
   ]
  },
  {
   "cell_type": "code",
   "execution_count": 9,
   "metadata": {},
   "outputs": [
    {
     "name": "stdout",
     "output_type": "stream",
     "text": [
      "train confusion matrix:\n",
      " [[4348   82    7   65]\n",
      " [  54 4154    4   11]\n",
      " [  91  125  504    8]\n",
      " [ 210  140    6  863]]\n",
      "test confusion matrix:\n",
      " [[524  27   2   9]\n",
      " [ 19 505   1   3]\n",
      " [ 17  21  50   3]\n",
      " [ 27  34   1  91]]\n"
     ]
    }
   ],
   "source": [
    "from sklearn.metrics import confusion_matrix\n",
    "\n",
    "print(f'train confusion matrix:\\n {confusion_matrix(y_train, train[\"predict\"])}')\n",
    "print(f'test confusion matrix:\\n {confusion_matrix(y_test, test[\"predict\"])}')"
   ]
  },
  {
   "cell_type": "markdown",
   "metadata": {},
   "source": [
    "## 56. 適合率，再現率，F1スコアの計測\n",
    "52で学習したロジスティック回帰モデルの適合率，再現率，F1スコアを，評価データ上で計測せよ．カテゴリごとに適合率，再現率，F1スコアを求め，カテゴリごとの性能をマイクロ平均（micro-average）とマクロ平均（macro-average）で統合せよ．\n"
   ]
  },
  {
   "cell_type": "code",
   "execution_count": 10,
   "metadata": {},
   "outputs": [
    {
     "name": "stdout",
     "output_type": "stream",
     "text": [
      "train classification_report:\n",
      "               precision    recall  f1-score   support\n",
      "\n",
      "           b       0.92      0.97      0.94      4502\n",
      "           e       0.92      0.98      0.95      4223\n",
      "           m       0.97      0.69      0.81       728\n",
      "           t       0.91      0.71      0.80      1219\n",
      "\n",
      "    accuracy                           0.92     10672\n",
      "   macro avg       0.93      0.84      0.88     10672\n",
      "weighted avg       0.93      0.92      0.92     10672\n",
      "\n",
      "test classification_report:\n",
      "               precision    recall  f1-score   support\n",
      "\n",
      "           b       0.89      0.93      0.91       562\n",
      "           e       0.86      0.96      0.91       528\n",
      "           m       0.93      0.55      0.69        91\n",
      "           t       0.86      0.59      0.70       153\n",
      "\n",
      "    accuracy                           0.88      1334\n",
      "   macro avg       0.88      0.76      0.80      1334\n",
      "weighted avg       0.88      0.88      0.87      1334\n",
      "\n"
     ]
    }
   ],
   "source": [
    "from sklearn.metrics import classification_report\n",
    "print(f'train classification_report:\\n {classification_report(y_train, train[\"predict\"])}')\n",
    "print(f'test classification_report:\\n {classification_report(y_test, test[\"predict\"])}')"
   ]
  },
  {
   "cell_type": "markdown",
   "metadata": {},
   "source": [
    "## 57. 特徴量の重みの確認\n",
    "52で学習したロジスティック回帰モデルの中で，重みの高い特徴量トップ10と，重みの低い特徴量トップ10を確認せよ．\n"
   ]
  },
  {
   "cell_type": "code",
   "execution_count": 11,
   "metadata": {},
   "outputs": [
    {
     "name": "stdout",
     "output_type": "stream",
     "text": [
      "Category: business\n",
      "         1      2          3     4       5      6        7        8   \\\n",
      "TOP  stocks   bank        fed   ecb    euro  china   dollar  ukraine   \n",
      "LOW   ebola  aereo  microsoft  star  people  virus  samsung     drug   \n",
      "\n",
      "            9           10  \n",
      "TOP  obamacare      profit  \n",
      "LOW      video  kardashian  \n",
      "Category: environment\n",
      "             1      2       3      4      5        6        7      8      9   \\\n",
      "TOP  kardashian  chris   miley  cyrus    kim  beyonce    movie   film   paul   \n",
      "LOW      update     us  google  china  study       gm  billion  apple  ebola   \n",
      "\n",
      "       10  \n",
      "TOP   met  \n",
      "LOW  data  \n",
      "Category: health\n",
      "        1         2      3       4     5        6      7     8           9   \\\n",
      "TOP  ebola       fda  study  cancer  drug     mers  cases   cdc  cigarettes   \n",
      "LOW     gm  facebook  apple     ceo  bank  climate    buy  deal       sales   \n",
      "\n",
      "         10  \n",
      "TOP  health  \n",
      "LOW  amazon  \n",
      "Category: science and technology\n",
      "         1      2         3          4        5        6        7        8   \\\n",
      "TOP  google  apple  facebook  microsoft  climate  comcast       gm     nasa   \n",
      "LOW  stocks    fed      drug   american     york   cancer  ukraine  percent   \n",
      "\n",
      "          9       10  \n",
      "TOP  samsung  mobile  \n",
      "LOW      ecb   still  \n"
     ]
    },
    {
     "name": "stderr",
     "output_type": "stream",
     "text": [
      "/opt/conda/lib/python3.8/site-packages/sklearn/utils/deprecation.py:87: FutureWarning: Function get_feature_names is deprecated; get_feature_names is deprecated in 1.0 and will be removed in 1.2. Please use get_feature_names_out instead.\n",
      "  warnings.warn(msg, category=FutureWarning)\n"
     ]
    }
   ],
   "source": [
    "category_name = {'b': 'business', 't': 'science and technology', 'e': 'environment', 'm': 'health'}\n",
    "features = np.array(tfidf.get_feature_names())\n",
    "for label, coef in zip(lr.classes_, lr.coef_):\n",
    "    print(f'Category: {category_name[label]}')\n",
    "    coef = np.argsort(coef)\n",
    "    best = pd.DataFrame(features[coef[::-1][:10]], columns=['TOP'], index=list(range(1, 11))).T\n",
    "    worst = pd.DataFrame(features[coef[:10]], columns=['LOW'], index=list(range(1, 11))).T\n",
    "    print(pd.concat([best, worst], axis=0))\n"
   ]
  },
  {
   "cell_type": "markdown",
   "metadata": {},
   "source": [
    "## 58. 正則化パラメータの変更\n",
    "ロジスティック回帰モデルを学習するとき，正則化パラメータを調整することで，学習時の過学習（overfitting）の度合いを制御できる．異なる正則化パラメータでロジスティック回帰モデルを学習し，学習データ，検証データ，および評価データ上の正解率を求めよ．実験の結果は，正則化パラメータを横軸，正解率を縦軸としたグラフにまとめよ．\n"
   ]
  },
  {
   "cell_type": "code",
   "execution_count": 12,
   "metadata": {},
   "outputs": [
    {
     "name": "stdout",
     "output_type": "stream",
     "text": [
      "0.0001\n",
      "0.01\n",
      "0.1\n",
      "1\n",
      "10\n",
      "100\n",
      "1000\n"
     ]
    }
   ],
   "source": [
    "C_list = [0.0001, 0.01, 0.1, 1, 10, 100, 1000]\n",
    "result = []\n",
    "\n",
    "def train(X, y, C=1, seed=42):\n",
    "    lr = LogisticRegression(C=C, max_iter=10000, random_state=seed)\n",
    "    lr.fit(X, y)\n",
    "    return lr\n",
    "\n",
    "for C in C_list:\n",
    "    print(C)\n",
    "    lr = train(X_train, y_train, C=C)\n",
    "    train_score = lr.score(X_train, y_train)\n",
    "    valid_score = lr.score(X_valid, y_valid)\n",
    "    test_score = lr.score(X_test, y_test)\n",
    "    result += [[C, train_score, valid_score, test_score]]"
   ]
  },
  {
   "cell_type": "code",
   "execution_count": 13,
   "metadata": {},
   "outputs": [
    {
     "data": {
      "text/plain": [
       "<matplotlib.legend.Legend at 0x7f61963a83d0>"
      ]
     },
     "execution_count": 13,
     "metadata": {},
     "output_type": "execute_result"
    },
    {
     "data": {
      "image/png": "[encoded data removed]",
      "text/plain": [
       "<Figure size 432x288 with 1 Axes>"
      ]
     },
     "metadata": {
      "needs_background": "light"
     },
     "output_type": "display_data"
    }
   ],
   "source": [
    "import matplotlib.pyplot as plt\n",
    "result = np.array(result).T\n",
    "plt.plot(result[0], result[1], label='train')\n",
    "plt.plot(result[0], result[2], label='valid')\n",
    "plt.plot(result[0], result[3], label='test')\n",
    "plt.ylabel('Accuracy')\n",
    "plt.xscale('log')\n",
    "plt.xlabel('C')\n",
    "plt.legend()"
   ]
  },
  {
   "cell_type": "markdown",
   "metadata": {},
   "source": [
    "## 59. ハイパーパラメータの探索\n",
    "学習アルゴリズムや学習パラメータを変えながら，カテゴリ分類モデルを学習せよ．検証データ上の正解率が最も高くなる学習アルゴリズム・パラメータを求めよ．また，その学習アルゴリズム・パラメータを用いたときの評価データ上の正解率を求めよ．\n"
   ]
  },
  {
   "cell_type": "code",
   "execution_count": 19,
   "metadata": {},
   "outputs": [],
   "source": [
    "import scipy\n",
    "from sklearn.model_selection import RandomizedSearchCV\n",
    "param_dist = {\n",
    "    \"C\": scipy.stats.uniform(1e-2, 1e2),\n",
    "}"
   ]
  },
  {
   "cell_type": "code",
   "execution_count": 20,
   "metadata": {},
   "outputs": [
    {
     "data": {
      "text/plain": [
       "RandomizedSearchCV(estimator=LogisticRegression(max_iter=10000, solver='saga'),\n",
       "                   param_distributions={'C': <scipy.stats._distn_infrastructure.rv_frozen object at 0x7f6196476070>})"
      ]
     },
     "execution_count": 20,
     "metadata": {},
     "output_type": "execute_result"
    }
   ],
   "source": [
    "lr = LogisticRegression(max_iter=10000, solver='saga')\n",
    "lr = RandomizedSearchCV(estimator=lr, param_distributions=param_dist)\n",
    "lr.fit(X_train, y_train)\n"
   ]
  },
  {
   "cell_type": "code",
   "execution_count": 25,
   "metadata": {},
   "outputs": [
    {
     "name": "stdout",
     "output_type": "stream",
     "text": [
      "{'C': 10.513390927289347}\n",
      "train: 0.9713268365817092, test: 0.8860569715142429\n"
     ]
    }
   ],
   "source": [
    "print(lr.best_params_)\n",
    "train_score = lr.score(X_train, y_train)\n",
    "test_score = lr.score(X_test, y_test)\n",
    "print(f'train: {train_score}, test: {test_score}')"
   ]
  }
 ],
 "metadata": {
  "interpreter": {
   "hash": "d4d1e4263499bec80672ea0156c357c1ee493ec2b1c70f0acce89fc37c4a6abe"
  },
  "kernelspec": {
   "display_name": "Python 3.9.10 ('base')",
   "language": "python",
   "name": "python3"
  },
  "language_info": {
   "codemirror_mode": {
    "name": "ipython",
    "version": 3
   },
   "file_extension": ".py",
   "mimetype": "text/x-python",
   "name": "python",
   "nbconvert_exporter": "python",
   "pygments_lexer": "ipython3",
   "version": "3.8.12"
  },
  "orig_nbformat": 4
 },
 "nbformat": 4,
 "nbformat_minor": 2
}
