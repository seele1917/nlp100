{
 "cells": [
  {
   "cell_type": "markdown",
   "metadata": {},
   "source": [
    "# 第4章: 形態素解析\n",
    "https://nlp100.github.io/ja/ch04.html\n",
    "\n",
    "夏目漱石の小説『吾輩は猫である』の文章（[neko.txt](https://nlp100.github.io/data/neko.txt)）をMeCabを使って形態素解析し，その結果をneko.txt.mecabというファイルに保存せよ．このファイルを用いて，以下の問に対応するプログラムを実装せよ．\n",
    "\n",
    "なお，問題37, 38, 39は[matplotlib](http://matplotlib.org/)もしくは[Gnuplot](http://www.gnuplot.info/)を用いるとよい．"
   ]
  },
  {
   "cell_type": "code",
   "execution_count": 1,
   "metadata": {},
   "outputs": [],
   "source": [
    "# !wget https://nlp100.github.io/data/neko.txt && mv neko.txt ../dataset/\n",
    "text_file_path = '../dataset/neko.txt'\n",
    "!mecab -d /etc/alternatives/mecab-dictionary < {text_file_path} > neko.txt.mecab"
   ]
  },
  {
   "cell_type": "markdown",
   "metadata": {},
   "source": [
    "## 30. 形態素解析結果の読み込み\n",
    "形態素解析結果（neko.txt.mecab）を読み込むプログラムを実装せよ．ただし，各形態素は表層形（surface），基本形（base），品詞（pos），品詞細分類1（pos1）をキーとするマッピング型に格納し，1文を形態素（マッピング型）のリストとして表現せよ．第4章の残りの問題では，ここで作ったプログラムを活用せよ．\n"
   ]
  },
  {
   "cell_type": "code",
   "execution_count": 1,
   "metadata": {},
   "outputs": [
    {
     "name": "stdout",
     "output_type": "stream",
     "text": [
      "[{'base': '一', 'pos': '名詞', 'pos1': '数', 'surface': '一'},\n",
      " {'base': '*', 'pos': '記号', 'pos1': '一般', 'surface': ''},\n",
      " {'base': '*', 'pos': '記号', 'pos1': '一般', 'surface': ''},\n",
      " {'base': '\\u3000', 'pos': '記号', 'pos1': '空白', 'surface': '\\u3000'},\n",
      " {'base': '吾輩', 'pos': '名詞', 'pos1': '代名詞', 'surface': '吾輩'},\n",
      " {'base': 'は', 'pos': '助詞', 'pos1': '係助詞', 'surface': 'は'},\n",
      " {'base': '猫', 'pos': '名詞', 'pos1': '一般', 'surface': '猫'},\n",
      " {'base': 'だ', 'pos': '助動詞', 'pos1': '*', 'surface': 'で'},\n",
      " {'base': 'ある', 'pos': '助動詞', 'pos1': '*', 'surface': 'ある'},\n",
      " {'base': '。', 'pos': '記号', 'pos1': '句点', 'surface': '。'}]\n"
     ]
    }
   ],
   "source": [
    "from pprint import pprint\n",
    "\n",
    "with open('neko.txt.mecab', 'r') as f:\n",
    "    lines = f.read().split('\\n')\n",
    "\n",
    "# 表層形\\t品詞,品詞細分類1,品詞細分類2,品詞細分類3,活用型,活用形,原形,読み,発音\n",
    "result = []\n",
    "for line in lines:\n",
    "    if line == 'EOS' or line == '':\n",
    "        continue\n",
    "    surface, content = line.split('\\t')\n",
    "    content = content.split(',')\n",
    "    base, pos, pos1 = content[6], content[0], content[1]\n",
    "    map_dict = {'surface': surface, 'base': base, 'pos': pos, 'pos1': pos1}\n",
    "    result += [map_dict]\n",
    "\n",
    "pprint(result[:10])"
   ]
  },
  {
   "cell_type": "markdown",
   "metadata": {},
   "source": [
    "## 31. 動詞\n",
    "動詞の表層形をすべて抽出せよ．\n"
   ]
  },
  {
   "cell_type": "code",
   "execution_count": 11,
   "metadata": {},
   "outputs": [
    {
     "name": "stdout",
     "output_type": "stream",
     "text": [
      "['生れ', 'つか', 'し', '泣い', 'し', 'いる', '始め', '見', '聞く', '捕え']\n"
     ]
    }
   ],
   "source": [
    "surfaces_verb = [map_dict['surface'] for map_dict in result if map_dict['pos'] == '動詞']\n",
    "pprint(surfaces_verb[:10])"
   ]
  },
  {
   "cell_type": "markdown",
   "metadata": {},
   "source": [
    "## 32. 動詞の基本形\n",
    "動詞の基本形をすべて抽出せよ．\n"
   ]
  },
  {
   "cell_type": "code",
   "execution_count": 13,
   "metadata": {},
   "outputs": [
    {
     "name": "stdout",
     "output_type": "stream",
     "text": [
      "['生れる', 'つく', 'する', '泣く', 'する', 'いる', '始める', '見る', '聞く', '捕える']\n"
     ]
    }
   ],
   "source": [
    "bases_verb = [map_dict['base'] for map_dict in result if map_dict['pos'] == '動詞']\n",
    "pprint(bases_verb[:10])"
   ]
  },
  {
   "cell_type": "markdown",
   "metadata": {},
   "source": [
    "## 33. 「AのB」\n",
    "2つの名詞が「の」で連結されている名詞句を抽出せよ．\n"
   ]
  },
  {
   "cell_type": "code",
   "execution_count": 18,
   "metadata": {},
   "outputs": [
    {
     "name": "stdout",
     "output_type": "stream",
     "text": [
      "彼の掌\n",
      "掌の上\n",
      "書生の顔\n",
      "はずの顔\n",
      "顔の真中\n",
      "穴の中\n",
      "書生の掌\n",
      "掌の裏\n",
      "何の事\n",
      "肝心の母親\n",
      "藁の上\n",
      "笹原の中\n",
      "池の前\n",
      "池の上\n",
      "一樹の蔭\n",
      "垣根の穴\n",
      "隣家の三\n",
      "時の通路\n",
      "一刻の猶予\n",
      "家の内\n",
      "彼の書生\n",
      "以外の人間\n",
      "前の書生\n",
      "おさんの隙\n",
      "おさんの三\n"
     ]
    }
   ],
   "source": [
    "for i in range(1, len(result)-1):\n",
    "    if result[i]['surface'] == 'の' and result[i-1]['pos'] == result[i+1]['pos'] == '名詞':\n",
    "        print(result[i-1]['surface']+\"の\"+result[i+1]['surface'])\n",
    "        if i > 1000:\n",
    "            break"
   ]
  },
  {
   "cell_type": "markdown",
   "metadata": {},
   "source": [
    "## 34. 名詞の連接\n",
    "名詞の連接（連続して出現する名詞）を最長一致で抽出せよ．\n"
   ]
  },
  {
   "cell_type": "code",
   "execution_count": 64,
   "metadata": {},
   "outputs": [
    {
     "name": "stdout",
     "output_type": "stream",
     "text": [
      "manyaslip'twixtthecupandthelip\n"
     ]
    }
   ],
   "source": [
    "max_words = ''\n",
    "current_words = ''\n",
    "for map_dict in result:\n",
    "    surface, pos = map_dict['surface'], map_dict['pos']\n",
    "    if pos == '名詞':\n",
    "        current_words += surface\n",
    "        if len(max_words) < len(current_words):\n",
    "            max_words = current_words\n",
    "    else:\n",
    "        current_words = ''\n",
    "print(max_words)\n"
   ]
  },
  {
   "cell_type": "markdown",
   "metadata": {},
   "source": [
    "## 35. 単語の出現頻度\n",
    "文章中に出現する単語とその出現頻度を求め，出現頻度の高い順に並べよ．\n"
   ]
  },
  {
   "cell_type": "code",
   "execution_count": 10,
   "metadata": {},
   "outputs": [
    {
     "data": {
      "text/plain": [
       "[('', 9964),\n",
       " ('の', 9194),\n",
       " ('。', 7486),\n",
       " ('て', 6868),\n",
       " ('、', 6772),\n",
       " ('は', 6420),\n",
       " ('に', 6243),\n",
       " ('を', 6071),\n",
       " ('と', 5508),\n",
       " ('が', 5337)]"
      ]
     },
     "execution_count": 10,
     "metadata": {},
     "output_type": "execute_result"
    }
   ],
   "source": [
    "from collections import Counter\n",
    "surfaces = [map_dict['surface'] for map_dict in result]\n",
    "words_frequency = Counter(surfaces).most_common()\n",
    "words_frequency[:10]"
   ]
  },
  {
   "cell_type": "markdown",
   "metadata": {},
   "source": [
    "## 36. 頻度上位10語\n",
    "出現頻度が高い10語とその出現頻度をグラフ（例えば棒グラフなど）で表示せよ．\n"
   ]
  },
  {
   "cell_type": "code",
   "execution_count": 19,
   "metadata": {},
   "outputs": [
    {
     "data": {
      "text/plain": [
       "<BarContainer object of 10 artists>"
      ]
     },
     "execution_count": 19,
     "metadata": {},
     "output_type": "execute_result"
    },
    {
     "data": {
      "image/png": "[encoded data removed]",
      "text/plain": [
       "<Figure size 432x288 with 1 Axes>"
      ]
     },
     "metadata": {
      "needs_background": "light"
     },
     "output_type": "display_data"
    }
   ],
   "source": [
    "import matplotlib.pyplot as plt\n",
    "import japanize_matplotlib\n",
    "\n",
    "words, frequency = [ele[0] for ele in words_frequency[:10]], [ele[1] for ele in words_frequency[:10]]\n",
    "plt.bar(words, frequency)"
   ]
  },
  {
   "cell_type": "markdown",
   "metadata": {},
   "source": [
    "## 37. 「猫」と共起頻度の高い上位10語\n",
    "「猫」とよく共起する（共起頻度が高い）10語とその出現頻度をグラフ（例えば棒グラフなど）で表示せよ．\n"
   ]
  },
  {
   "cell_type": "code",
   "execution_count": 20,
   "metadata": {},
   "outputs": [
    {
     "data": {
      "text/plain": [
       "<BarContainer object of 10 artists>"
      ]
     },
     "execution_count": 20,
     "metadata": {},
     "output_type": "execute_result"
    },
    {
     "data": {
      "image/png": "[encoded data removed]",
      "text/plain": [
       "<Figure size 432x288 with 1 Axes>"
      ]
     },
     "metadata": {
      "needs_background": "light"
     },
     "output_type": "display_data"
    }
   ],
   "source": [
    "# 文ごとに分ける\n",
    "sentences = []\n",
    "sentence = []\n",
    "for map_dict in result:\n",
    "    surface = map_dict['surface']\n",
    "    sentence += [map_dict]\n",
    "    if surface == '。':\n",
    "        sentences += [sentence]\n",
    "        sentence = []\n",
    "\n",
    "# 猫が含まれる文の中で出現する名詞の数をカウント\n",
    "words_list = []\n",
    "for sentence in sentences:\n",
    "    words = [map_dict['surface'] for map_dict in sentence if map_dict['pos'] == '名詞']\n",
    "    if '猫' in words:\n",
    "        words_list += filter(lambda x: x not in ['猫'], words)\n",
    "\n",
    "# 子猫\n",
    "co_neko_freqency = Counter(words_list).most_common()[:10]\n",
    "words, frequency = [ele[0] for ele in co_neko_freqency[:10]], [ele[1] for ele in co_neko_freqency[:10]]\n",
    "plt.bar(words, frequency)\n",
    "plt.show()\n"
   ]
  },
  {
   "cell_type": "markdown",
   "metadata": {},
   "source": [
    "## 38. ヒストグラム\n",
    "単語の出現頻度のヒストグラムを描け．ただし，横軸は出現頻度を表し，1から単語の出現頻度の最大値までの線形目盛とする．縦軸はx軸で示される出現頻度となった単語の異なり数（種類数）である．\n"
   ]
  },
  {
   "cell_type": "code",
   "execution_count": 74,
   "metadata": {},
   "outputs": [
    {
     "data": {
      "image/png": "[encoded data removed]",
      "text/plain": [
       "<Figure size 432x288 with 1 Axes>"
      ]
     },
     "metadata": {
      "needs_background": "light"
     },
     "output_type": "display_data"
    }
   ],
   "source": [
    "frequency = [ele[1] for ele in words_frequency]\n",
    "plt.hist(frequency, bins=10, range=(1,10))\n",
    "plt.show()\n"
   ]
  },
  {
   "cell_type": "markdown",
   "metadata": {},
   "source": [
    "## 39. Zipfの法則\n",
    "単語の出現頻度順位を横軸，その出現頻度を縦軸として，両対数グラフをプロットせよ．"
   ]
  },
  {
   "cell_type": "code",
   "execution_count": 76,
   "metadata": {},
   "outputs": [
    {
     "data": {
      "image/png": "[encoded data removed]",
      "text/plain": [
       "<Figure size 432x288 with 1 Axes>"
      ]
     },
     "metadata": {
      "needs_background": "light"
     },
     "output_type": "display_data"
    }
   ],
   "source": [
    "rank = range(1, len(frequency)+1)\n",
    "plt.loglog(rank, frequency, \"o\")\n",
    "plt.show()"
   ]
  }
 ],
 "metadata": {
  "interpreter": {
   "hash": "d4d1e4263499bec80672ea0156c357c1ee493ec2b1c70f0acce89fc37c4a6abe"
  },
  "kernelspec": {
   "display_name": "Python 3.9.10 ('base')",
   "language": "python",
   "name": "python3"
  },
  "language_info": {
   "codemirror_mode": {
    "name": "ipython",
    "version": 3
   },
   "file_extension": ".py",
   "mimetype": "text/x-python",
   "name": "python",
   "nbconvert_exporter": "python",
   "pygments_lexer": "ipython3",
   "version": "3.8.12"
  },
  "orig_nbformat": 4
 },
 "nbformat": 4,
 "nbformat_minor": 2
}
